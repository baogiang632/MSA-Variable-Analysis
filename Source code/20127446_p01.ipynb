{
 "cells": [
  {
   "attachments": {},
   "cell_type": "markdown",
   "metadata": {},
   "source": [
    "Import thư viện numpy"
   ]
  },
  {
   "cell_type": "code",
   "execution_count": 1,
   "metadata": {},
   "outputs": [],
   "source": [
    "import numpy as np\n",
    "import time"
   ]
  },
  {
   "attachments": {},
   "cell_type": "markdown",
   "metadata": {},
   "source": [
    "Các thuật toán Phân tích thống kê bằng numpy"
   ]
  },
  {
   "cell_type": "code",
   "execution_count": 2,
   "metadata": {},
   "outputs": [],
   "source": [
    "def mean_np(x):\n",
    "    return np.mean(x)\n",
    "\n",
    "def median_np(x):\n",
    "    return np.median(x)\n",
    "\n",
    "def maximum_np(x):\n",
    "    return np.max(x)\n",
    "\n",
    "def minimum_np(x):\n",
    "    return np.min(x)\n",
    "\n",
    "def data_range_np(x):\n",
    "    return np.ptp(x)\n",
    "\n",
    "def variance_np(x):\n",
    "    return np.var(x)\n",
    "\n",
    "def std_deviation_np(x):\n",
    "    return np.std(x)\n",
    "\n",
    "def correlation_np(x, y):\n",
    "    return np.corrcoef(x, y)[0, 1]"
   ]
  },
  {
   "attachments": {},
   "cell_type": "markdown",
   "metadata": {},
   "source": [
    "Các thuật toán cài đặt không dùng numpy"
   ]
  },
  {
   "cell_type": "code",
   "execution_count": 3,
   "metadata": {},
   "outputs": [],
   "source": [
    "def mean(x):\n",
    "    n = len(x)\n",
    "    if n == 0:\n",
    "        return None\n",
    "    return sum(x) / n\n",
    "\n",
    "def median(x):\n",
    "    n = len(x)\n",
    "    if n == 0:\n",
    "        return None\n",
    "    sorted_x = sorted(x)\n",
    "    mid = n // 2\n",
    "    if n % 2 == 0:\n",
    "        return (sorted_x[mid - 1] + sorted_x[mid]) / 2\n",
    "    else:\n",
    "        return sorted_x[mid]\n",
    "\n",
    "def maximum(x):\n",
    "    if len(x) == 0:\n",
    "        return None\n",
    "    max_val = x[0]\n",
    "    for val in x:\n",
    "        if val > max_val:\n",
    "            max_val = val\n",
    "    return max_val\n",
    "\n",
    "def minimum(x):\n",
    "    if len(x) == 0:\n",
    "        return None\n",
    "    min_val = x[0]\n",
    "    for val in x:\n",
    "        if val < min_val:\n",
    "            min_val = val\n",
    "    return min_val\n",
    "\n",
    "def data_range(x):\n",
    "    if len(x) == 0:\n",
    "        return None\n",
    "    return max(x) - min(x)\n",
    "\n",
    "def variance(x):\n",
    "    n = len(x)\n",
    "    if n == 0:\n",
    "        return None\n",
    "    x_mean = mean(x)\n",
    "    return sum([(val - x_mean)**2 for val in x]) / n\n",
    "\n",
    "def std_deviation(x):\n",
    "    var = variance(x)\n",
    "    if var is None:\n",
    "        return None\n",
    "    return var ** 0.5\n",
    "\n",
    "def correlation(x, y):\n",
    "    n = len(x)\n",
    "    if n != len(y):\n",
    "        return None\n",
    "    x_mean = mean(x)\n",
    "    y_mean = mean(y)\n",
    "    x_std_dev = std_deviation(x)\n",
    "    y_std_dev = std_deviation(y)\n",
    "    if x_std_dev is None or y_std_dev is None:\n",
    "        return None\n",
    "    if x_std_dev == 0 or y_std_dev == 0:\n",
    "        return 0\n",
    "    covar = sum([(x[i] - x_mean) * (y[i] - y_mean) for i in range(n)])\n",
    "    return covar / (n * x_std_dev * y_std_dev)"
   ]
  },
  {
   "cell_type": "code",
   "execution_count": 4,
   "metadata": {},
   "outputs": [],
   "source": [
    "x = [99,86,87,88,111,86,103,87,94,78,77,85,86]\n",
    "y = np.array([[80, 40, 90],\n",
    "              [20, 10, 60],\n",
    "              [50, 70, 30],\n",
    "              [10, 20, 30],\n",
    "              [30, 20, 10]])"
   ]
  },
  {
   "cell_type": "code",
   "execution_count": 7,
   "metadata": {},
   "outputs": [
    {
     "name": "stdout",
     "output_type": "stream",
     "text": [
      "Function using Numpy\n",
      "Mean of x: 89.76923076923077\n",
      "Median of x: 87.0\n",
      "Maximum of x: 111\n",
      "Minimum of x: 77\n",
      "Range of x: 34\n",
      "Variance of x: 85.71597633136093\n",
      "Standard deviation of x: 9.258292301032677\n",
      "Correlations:\n",
      "[[1.         0.61132511 0.61587898]\n",
      " [0.61132511 1.         0.0200697 ]\n",
      " [0.61587898 0.0200697  1.        ]]\n",
      "Elapsed time : 0.780 ms\n"
     ]
    }
   ],
   "source": [
    "start_time = time.time() # get current time in seconds\n",
    "\n",
    "print(\"Function using Numpy\")\n",
    "print(\"Mean of x:\", mean_np(x))\n",
    "print(\"Median of x:\", median_np(x))\n",
    "print(\"Maximum of x:\", maximum_np(x))\n",
    "print(\"Minimum of x:\", minimum_np(x))\n",
    "print(\"Range of x:\", data_range_np(x))\n",
    "print(\"Variance of x:\", variance_np(x))\n",
    "print(\"Standard deviation of x:\", std_deviation_np(x))\n",
    "print(\"Correlations:\")\n",
    "print(np.corrcoef(y, rowvar=False))\n",
    "\n",
    "\n",
    "\n",
    "end_time = time.time() # get current time in seconds\n",
    "elapsed_time_ms = (end_time - start_time) * 1000 # calculate elapsed time in milliseconds\n",
    "print(f\"Elapsed time : {elapsed_time_ms:.3f} ms\")"
   ]
  },
  {
   "cell_type": "code",
   "execution_count": 10,
   "metadata": {},
   "outputs": [
    {
     "name": "stdout",
     "output_type": "stream",
     "text": [
      "Function without using Numpy\n",
      "Mean of x: 89.76923076923077\n",
      "Median of x: 87\n",
      "Maximum of x: 111\n",
      "Minimum of x: 77\n",
      "Range of x: 34\n",
      "Variance of x: 85.71597633136093\n",
      "Standard deviation of x: 9.258292301032677\n",
      "Correlations:\n",
      "[1.0, 0.6113251073498304, 0.6158789796479692]\n",
      "[0.6113251073498304, 1.0, 0.020069695962464874]\n",
      "[0.6158789796479692, 0.020069695962464874, 1.0]\n",
      "Elapsed time: 1.004 ms\n"
     ]
    }
   ],
   "source": [
    "start_time1 = time.time() # get current time in seconds\n",
    "\n",
    "print(\"Function without using Numpy\")\n",
    "print(\"Mean of x:\", mean(x))\n",
    "print(\"Median of x:\", median(x))\n",
    "print(\"Maximum of x:\", maximum(x))\n",
    "print(\"Minimum of x:\", minimum(x))\n",
    "print(\"Range of x:\", data_range(x))\n",
    "print(\"Variance of x:\", variance(x))\n",
    "print(\"Standard deviation of x:\", std_deviation(x))\n",
    "\n",
    "correlations = []\n",
    "for i in range(len(y[0])):\n",
    "    row = []\n",
    "    for j in range(len(y[0])):\n",
    "        row.append(correlation([row[i] for row in y], [row[j] for row in y]))\n",
    "    correlations.append(row)\n",
    "print(\"Correlations:\")\n",
    "\n",
    "for row in correlations:\n",
    "    print(row)\n",
    "    \n",
    "end_time1 = time.time() # get current time in seconds\n",
    "elapsed_time_ms1 = (end_time1 - start_time1) * 1000 # calculate elapsed time in milliseconds\n",
    "print(f\"Elapsed time: {elapsed_time_ms1:.3f} ms\")"
   ]
  }
 ],
 "metadata": {
  "kernelspec": {
   "display_name": "Python 3",
   "language": "python",
   "name": "python3"
  },
  "language_info": {
   "codemirror_mode": {
    "name": "ipython",
    "version": 3
   },
   "file_extension": ".py",
   "mimetype": "text/x-python",
   "name": "python",
   "nbconvert_exporter": "python",
   "pygments_lexer": "ipython3",
   "version": "3.11.0"
  },
  "orig_nbformat": 4
 },
 "nbformat": 4,
 "nbformat_minor": 2
}
